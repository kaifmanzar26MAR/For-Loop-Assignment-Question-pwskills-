{
 "cells": [
  {
   "cell_type": "code",
   "execution_count": 2,
   "id": "04d8cd98-c718-413a-b78b-42ad1ae47c7e",
   "metadata": {},
   "outputs": [
    {
     "name": "stdout",
     "output_type": "stream",
     "text": [
      "1 2 3 4 5 6 7 8 9 10 "
     ]
    }
   ],
   "source": [
    "# 1. Write a Python program to print the numbers from 1 to 10 using a `for` loop.\n",
    "for i in range(1,11):\n",
    "    print(i,end=' ')\n"
   ]
  },
  {
   "cell_type": "code",
   "execution_count": 3,
   "id": "10fda1b8-6236-442c-9434-00249cac9fe5",
   "metadata": {},
   "outputs": [
    {
     "name": "stdout",
     "output_type": "stream",
     "text": [
      "The sum of all elements in list is 83\n"
     ]
    }
   ],
   "source": [
    "# 2. Create a program that calculates the sum of all numbers in a list using a `for` loop.\n",
    "li=[2,3,46,6,2,21,3]\n",
    "sum=0\n",
    "for i in li:\n",
    "    sum+=i\n",
    "print(f\"The sum of all elements in list is {sum}\")"
   ]
  },
  {
   "cell_type": "code",
   "execution_count": 5,
   "id": "772140ba-5c4b-4fb7-9705-9f8c361855f4",
   "metadata": {},
   "outputs": [
    {
     "name": "stdout",
     "output_type": "stream",
     "text": [
      "dcba"
     ]
    }
   ],
   "source": [
    "# 3. Write a program to print the characters of a string in reverse order using a `for` loop.\n",
    "s='abcd'\n",
    "for i in range(len(s)-1,-1,-1):\n",
    "    print(s[i],end=\"\")"
   ]
  },
  {
   "cell_type": "code",
   "execution_count": 7,
   "id": "a4d7d0c7-85fc-41a8-afe9-b23382981334",
   "metadata": {},
   "outputs": [
    {
     "name": "stdin",
     "output_type": "stream",
     "text": [
      "Enter a number to get factorial 5\n"
     ]
    },
    {
     "name": "stdout",
     "output_type": "stream",
     "text": [
      "Factorial of 5 is 120\n"
     ]
    }
   ],
   "source": [
    "# 4. Develop a program that finds the factorial of a given number using a `for` loop.\n",
    "n=int(input(\"Enter a number to get factorial\"))\n",
    "fact=n\n",
    "for i in range(n-1,0,-1):\n",
    "    fact*=i\n",
    "print(f\"Factorial of {n} is {fact}\")"
   ]
  },
  {
   "cell_type": "code",
   "execution_count": 8,
   "id": "fdf2400c-0579-4fd2-b495-ac401f1d9a10",
   "metadata": {},
   "outputs": [
    {
     "name": "stdin",
     "output_type": "stream",
     "text": [
      "Enter a number to get Table 5\n"
     ]
    },
    {
     "name": "stdout",
     "output_type": "stream",
     "text": [
      "5 * 1 = 5\n",
      "5 * 2 = 10\n",
      "5 * 3 = 15\n",
      "5 * 4 = 20\n",
      "5 * 5 = 25\n",
      "5 * 6 = 30\n",
      "5 * 7 = 35\n",
      "5 * 8 = 40\n",
      "5 * 9 = 45\n",
      "5 * 10 = 50\n"
     ]
    }
   ],
   "source": [
    "# 4. Develop a program that finds the factorial of a given number using a `for` loop.\n",
    "n=int(input(\"Enter a number to get Table\"))\n",
    "for i in range(1,11):\n",
    "    print(f\"{n} * {i} = {n*i}\")"
   ]
  },
  {
   "cell_type": "code",
   "execution_count": 11,
   "id": "3eebae52-24f0-4914-a64d-05a341ea205d",
   "metadata": {},
   "outputs": [
    {
     "name": "stdin",
     "output_type": "stream",
     "text": [
      "Enter a number to get count of even or odd 11\n"
     ]
    },
    {
     "name": "stdout",
     "output_type": "stream",
     "text": [
      "event count = 5 \n",
      "odd count = 6\n"
     ]
    }
   ],
   "source": [
    "# 6. Write a program that counts the number of even and odd numbers in a list using a `for` loop.\n",
    "n=int(input(\"Enter a number to get count of even or odd\"))\n",
    "even=0\n",
    "odd=0\n",
    "for i in range(1,n+1):\n",
    "    if i%2==0:\n",
    "        even+=1\n",
    "    else:\n",
    "        odd+=1\n",
    "print(f\"event count = {even} \\nodd count = {odd}\")"
   ]
  },
  {
   "cell_type": "code",
   "execution_count": 12,
   "id": "9ce2d080-68c6-44cf-a984-b92fe49c3613",
   "metadata": {},
   "outputs": [
    {
     "name": "stdout",
     "output_type": "stream",
     "text": [
      "square of 1 is 1\n",
      "square of 2 is 4\n",
      "square of 3 is 9\n",
      "square of 4 is 16\n",
      "square of 5 is 25\n"
     ]
    }
   ],
   "source": [
    "# 7. Develop a program that prints the squares of numbers from 1 to 5 using a `for` loop.\n",
    "for i in range(1,6):\n",
    "    print(f\"square of {i} is {i*i}\")"
   ]
  },
  {
   "cell_type": "code",
   "execution_count": 14,
   "id": "a2a722fd-c1d2-48a3-af2e-56d52eac326c",
   "metadata": {},
   "outputs": [
    {
     "name": "stdout",
     "output_type": "stream",
     "text": [
      "the length of string is 7\n"
     ]
    }
   ],
   "source": [
    "# 8. Create a program to find the length of a string without using the `len()` function.\n",
    "s='123ABCD'\n",
    "i=0\n",
    "for j in s:\n",
    "    i+=1\n",
    "print(f\"the length of string is {i}\")"
   ]
  },
  {
   "cell_type": "code",
   "execution_count": 15,
   "id": "ac8d99f6-b541-46e7-93d4-2f9a0a779ebf",
   "metadata": {},
   "outputs": [
    {
     "name": "stdout",
     "output_type": "stream",
     "text": [
      "The average of the list is 3.5\n"
     ]
    }
   ],
   "source": [
    "# 9. Write a program that calculates the average of a list of numbers using a `for` loop.\n",
    "li=[1,2,3,4,5,6]\n",
    "sum=0\n",
    "for i in li:\n",
    "    sum+=i\n",
    "print(f\"The average of the list is {sum/len(li)}\")"
   ]
  },
  {
   "cell_type": "code",
   "execution_count": 17,
   "id": "2cae4372-605e-412b-b7df-250f97c9b121",
   "metadata": {},
   "outputs": [
    {
     "name": "stdin",
     "output_type": "stream",
     "text": [
      "enter a number 5\n"
     ]
    },
    {
     "data": {
      "text/plain": [
       "[0, 1, 1, 2, 3]"
      ]
     },
     "execution_count": 17,
     "metadata": {},
     "output_type": "execute_result"
    }
   ],
   "source": [
    "# 10. Develop a program that prints the first `n` Fibonacci numbers using a `for` loop.\n",
    "n=int(input(\"enter a number\"))\n",
    "li=[0,1]\n",
    "for i in range(2,n):\n",
    "    li.append(li[i-2]+li[i-1])\n",
    "li"
   ]
  },
  {
   "cell_type": "code",
   "execution_count": 21,
   "id": "86d117ce-007d-4c96-ae49-ac2adcc946c5",
   "metadata": {},
   "outputs": [
    {
     "name": "stdout",
     "output_type": "stream",
     "text": [
      "No Duplicate Present\n"
     ]
    }
   ],
   "source": [
    "# 11. Write a program to check if a given list contains any duplicates using a `for` loop.\n",
    "# li=[1,2,4,5,2,1,2,4,6]\n",
    "li=[1,2,3,4,5,6]\n",
    "flag=True\n",
    "for i in li:\n",
    "    if li.count(i)>1:\n",
    "        flag=False\n",
    "        print(\"Duplicate Present\")\n",
    "        break;\n",
    "if(flag==True):\n",
    "    print(\"No Duplicate Present\")"
   ]
  },
  {
   "cell_type": "code",
   "execution_count": 23,
   "id": "3ea98977-ab57-41ec-909a-03b036b6dcc8",
   "metadata": {},
   "outputs": [
    {
     "name": "stdin",
     "output_type": "stream",
     "text": [
      "Enter Start Range 1\n",
      "Enter End Range 10\n"
     ]
    },
    {
     "name": "stdout",
     "output_type": "stream",
     "text": [
      "1 2 3 5 7 "
     ]
    }
   ],
   "source": [
    "# 12. Create a program that prints the prime numbers in a given range using a `for` loop.\n",
    "start=int(input(\"Enter Start Range\"))\n",
    "end=int(input(\"Enter End Range\"))\n",
    "for i in range(start,end+1):\n",
    "    flag=True\n",
    "    for j in range(2,i):\n",
    "        if i%j==0:\n",
    "            flag=False\n",
    "            break;\n",
    "    if(flag==True):\n",
    "        print(i,end=\" \")"
   ]
  },
  {
   "cell_type": "code",
   "execution_count": 24,
   "id": "05b24c8f-7b47-4ab5-973c-1c6927704627",
   "metadata": {},
   "outputs": [
    {
     "name": "stdout",
     "output_type": "stream",
     "text": [
      "8\n"
     ]
    }
   ],
   "source": [
    "# 13. Develop a program that counts the number of vowels in a string using a `for` loop.\n",
    "s='abcdefghiabceiouv'\n",
    "count=0\n",
    "for i in s:\n",
    "    if(i=='a' or i=='e' or i=='o' or i=='i' or i=='u'):\n",
    "        count+=1\n",
    "print(count)"
   ]
  },
  {
   "cell_type": "code",
   "execution_count": 25,
   "id": "ad5d3c80-e722-441b-badf-6f2868b7b7c1",
   "metadata": {},
   "outputs": [
    {
     "name": "stdout",
     "output_type": "stream",
     "text": [
      "90\n"
     ]
    }
   ],
   "source": [
    "# 14. Write a program to find the maximum element in a 2D list using a nested `for` loop.\n",
    "li=[[1,2,3,5,6,],[3,4,5,6,67],[33,44,55,90,2]]\n",
    "maxi=-1\n",
    "for i in li:\n",
    "    for j in i:\n",
    "        maxi=max(maxi,j)\n",
    "        \n",
    "print(maxi)"
   ]
  },
  {
   "cell_type": "code",
   "execution_count": 11,
   "id": "9fb5049b-a10d-450b-b37b-a55c883c9d3a",
   "metadata": {},
   "outputs": [
    {
     "name": "stdin",
     "output_type": "stream",
     "text": [
      "enter number 2\n"
     ]
    },
    {
     "data": {
      "text/plain": [
       "[1, 3, 4, 5, 1, 3, 1, 1]"
      ]
     },
     "execution_count": 11,
     "metadata": {},
     "output_type": "execute_result"
    }
   ],
   "source": [
    "# 15. Create a program that removes all occurrences of a specific element from a list using a `for` loop.\n",
    "li=[1,2,3,4,5,1,2,3,2,1,1]\n",
    "ele_to_remove=int(input(\"enter number\"))\n",
    "n=len(li)\n",
    "i=0\n",
    "while i<n:\n",
    "    if li[i]==ele_to_remove:\n",
    "        li.pop(i)\n",
    "        i=i-1\n",
    "        n=len(li)\n",
    "    i+=1\n",
    "li"
   ]
  },
  {
   "cell_type": "code",
   "execution_count": 13,
   "id": "59115b08-9ccc-42e6-9db4-21e97d9583ae",
   "metadata": {},
   "outputs": [
    {
     "name": "stdout",
     "output_type": "stream",
     "text": [
      "Table of 1\n",
      "\n",
      "1 * 1 = 1\n",
      "1 * 2 = 2\n",
      "1 * 3 = 3\n",
      "1 * 4 = 4\n",
      "1 * 5 = 5\n",
      "1 * 6 = 6\n",
      "1 * 7 = 7\n",
      "1 * 8 = 8\n",
      "1 * 9 = 9\n",
      "1 * 10 = 10\n",
      "\n",
      "\n",
      "Table of 2\n",
      "\n",
      "2 * 1 = 2\n",
      "2 * 2 = 4\n",
      "2 * 3 = 6\n",
      "2 * 4 = 8\n",
      "2 * 5 = 10\n",
      "2 * 6 = 12\n",
      "2 * 7 = 14\n",
      "2 * 8 = 16\n",
      "2 * 9 = 18\n",
      "2 * 10 = 20\n",
      "\n",
      "\n",
      "Table of 3\n",
      "\n",
      "3 * 1 = 3\n",
      "3 * 2 = 6\n",
      "3 * 3 = 9\n",
      "3 * 4 = 12\n",
      "3 * 5 = 15\n",
      "3 * 6 = 18\n",
      "3 * 7 = 21\n",
      "3 * 8 = 24\n",
      "3 * 9 = 27\n",
      "3 * 10 = 30\n",
      "\n",
      "\n",
      "Table of 4\n",
      "\n",
      "4 * 1 = 4\n",
      "4 * 2 = 8\n",
      "4 * 3 = 12\n",
      "4 * 4 = 16\n",
      "4 * 5 = 20\n",
      "4 * 6 = 24\n",
      "4 * 7 = 28\n",
      "4 * 8 = 32\n",
      "4 * 9 = 36\n",
      "4 * 10 = 40\n",
      "\n",
      "\n",
      "Table of 5\n",
      "\n",
      "5 * 1 = 5\n",
      "5 * 2 = 10\n",
      "5 * 3 = 15\n",
      "5 * 4 = 20\n",
      "5 * 5 = 25\n",
      "5 * 6 = 30\n",
      "5 * 7 = 35\n",
      "5 * 8 = 40\n",
      "5 * 9 = 45\n",
      "5 * 10 = 50\n",
      "\n",
      "\n"
     ]
    }
   ],
   "source": [
    "# 16. Develop a program that generates a multiplication table for numbers from 1 to 5 using a nested `for` loop.\n",
    "for i in range(1,6):\n",
    "    print(f\"Table of {i}\\n\")\n",
    "    for j in range(1,11):\n",
    "        print(f\"{i} * {j} = {i*j}\")\n",
    "    print(\"\\n\")"
   ]
  },
  {
   "cell_type": "code",
   "execution_count": 18,
   "id": "e0bb8816-87d4-490b-bb31-d12580a3c0f0",
   "metadata": {},
   "outputs": [
    {
     "data": {
      "text/plain": [
       "[-5, 0, 36, -17, 133]"
      ]
     },
     "execution_count": 18,
     "metadata": {},
     "output_type": "execute_result"
    }
   ],
   "source": [
    "# 17. Write a program that converts a list of Fahrenheit temperatures to Celsius using a `for` loop.\n",
    "li=[22,32,97,0,273] #temprature in fahrenheit\n",
    "for i in range(0,len(li)):\n",
    "    li[i]=int((li[i]-32)*(5/9))\n",
    "li\n"
   ]
  },
  {
   "cell_type": "code",
   "execution_count": 22,
   "id": "fb6e522e-de28-4f20-b9d2-40e96b934397",
   "metadata": {},
   "outputs": [
    {
     "data": {
      "text/plain": [
       "[1, 2, 3, 5, 6]"
      ]
     },
     "execution_count": 22,
     "metadata": {},
     "output_type": "execute_result"
    }
   ],
   "source": [
    "# 18. Create a program to print the common elements from two lists using a `for` loop.\n",
    "l1=[1,2,3,4,5,6]\n",
    "l2=[2,7,3,6,0,1,5]\n",
    "l3=[]\n",
    "for i in l1:\n",
    "    if i in l2:\n",
    "        l3.append(i)\n",
    "l3"
   ]
  },
  {
   "cell_type": "code",
   "execution_count": 27,
   "id": "c893477e-1e8f-4792-a6fe-1ccd4cb1ee73",
   "metadata": {},
   "outputs": [
    {
     "name": "stdout",
     "output_type": "stream",
     "text": [
      "*  \n",
      "*  *  \n",
      "*  *  *  \n",
      "*  *  *  *  \n",
      "*  *  *  *  *  \n"
     ]
    }
   ],
   "source": [
    "# 19. Develop a program that prints the pattern of right-angled triangles using a `for` loop. Use ‘*’ to draw the\n",
    "# pattern\n",
    "star=1\n",
    "for i in range(5):\n",
    "    for j in range(star):\n",
    "        print(\"*\",end=\"  \")\n",
    "    star+=1\n",
    "    print(\"\")\n"
   ]
  },
  {
   "cell_type": "code",
   "execution_count": 29,
   "id": "0c730a2b-ecbf-4538-978f-ee8dd912fa1d",
   "metadata": {},
   "outputs": [
    {
     "name": "stdin",
     "output_type": "stream",
     "text": [
      "Enter first val 16\n",
      "Enter second val 24\n"
     ]
    },
    {
     "name": "stdout",
     "output_type": "stream",
     "text": [
      "48 8\n"
     ]
    }
   ],
   "source": [
    "# 20. Write a program to find the greatest common divisor (GCD) of two numbers using a `for` loop.\n",
    "def lcm(x, y):\n",
    "    greater=max(x,y)\n",
    "    lcm=greater\n",
    "    while(True):\n",
    "        if((greater % x == 0) and (greater % y == 0)):\n",
    "            lcm = greater\n",
    "            break\n",
    "        greater += 1\n",
    "    return lcm\n",
    "\n",
    "num1=int(input(\"Enter first val\"))\n",
    "num2=int(input(\"Enter second val\"))\n",
    "\n",
    "LCM=lcm(num1,num2)\n",
    "HCF=int((num1*num2)/LCM)\n",
    "print(LCM,HCF)"
   ]
  },
  {
   "cell_type": "code",
   "execution_count": 46,
   "id": "072cf1cc-f461-40da-8eba-5a5ad526564e",
   "metadata": {},
   "outputs": [
    {
     "data": {
      "text/plain": [
       "[4, 6, 15, 24, 10]"
      ]
     },
     "execution_count": 46,
     "metadata": {},
     "output_type": "execute_result"
    }
   ],
   "source": [
    "# 21. Create a program that calculates the sum of the digits of numbers in a list using a list comprehension.\n",
    "def cal_sum(a):\n",
    "    s=str(a)\n",
    "    sums=0\n",
    "    for j in s:\n",
    "        sums+=int(j)\n",
    "    return sums\n",
    "\n",
    "li=[22,33,12345,580605,22222]\n",
    "l2=[cal_sum(i) for i in li]\n",
    "l2"
   ]
  },
  {
   "cell_type": "code",
   "execution_count": 50,
   "id": "c3ab2f1f-3023-4e99-a560-ea569be5663e",
   "metadata": {},
   "outputs": [
    {
     "name": "stdin",
     "output_type": "stream",
     "text": [
      "enter the num 10\n"
     ]
    },
    {
     "name": "stdout",
     "output_type": "stream",
     "text": [
      "[2, 3, 4, 5, 7]\n"
     ]
    }
   ],
   "source": [
    "# 22. Write a program to find the prime factors of a given number using a `for` loop and list comprehension.\n",
    "def isprime(n):\n",
    "    if n<=1:\n",
    "        return False\n",
    "    for i in range(2,int(n/2)):\n",
    "        if n%i==0:\n",
    "            return False\n",
    "    return True\n",
    "n=int(input(\"enter the num\"))\n",
    "li=[i for i in range(2,n+1) if isprime(i)==True]\n",
    "print(li)\n",
    "     "
   ]
  },
  {
   "cell_type": "code",
   "execution_count": 53,
   "id": "11ada88c-f631-418e-a549-f25caae22787",
   "metadata": {},
   "outputs": [
    {
     "data": {
      "text/plain": [
       "[1, 5, 0, 8, 7]"
      ]
     },
     "execution_count": 53,
     "metadata": {},
     "output_type": "execute_result"
    }
   ],
   "source": [
    "# 23. Develop a program that extracts unique elements from a list and stores them in a new list using a list\n",
    "# comprehension.\n",
    "li=[1,2,3,4,2,3,4,5,4,0,8,7]\n",
    "d={}\n",
    "for i in li:\n",
    "    if i in d:\n",
    "        d[i]+=1\n",
    "    else:\n",
    "        d[i]=1\n",
    "l1=[i for i in d.keys() if d[i]==1]\n",
    "\n",
    "l1\n",
    "    "
   ]
  },
  {
   "cell_type": "code",
   "execution_count": 55,
   "id": "73da333b-eece-4141-bf64-e97628ee0420",
   "metadata": {},
   "outputs": [
    {
     "name": "stdin",
     "output_type": "stream",
     "text": [
      "Enter start range 10\n",
      "Enter end range 100\n"
     ]
    },
    {
     "name": "stdout",
     "output_type": "stream",
     "text": [
      "[11, 22, 33, 44, 55, 66, 77, 88, 99]\n"
     ]
    }
   ],
   "source": [
    "# 24. Create a program that generates a list of all palindromic numbers up to a specified limit using a list\n",
    "# comprehension.\n",
    "def ispallendrome(a):\n",
    "    s=str(a)\n",
    "    if s==s[::-1]:\n",
    "        return True\n",
    "    return False\n",
    "start=int(input(\"Enter start range\"))\n",
    "end=int(input(\"Enter end range\"))\n",
    "li=[i for i in range(start,end+1) if ispallendrome(i)==True]\n",
    "print(li)"
   ]
  },
  {
   "cell_type": "code",
   "execution_count": 61,
   "id": "5eff1d09-b087-44bc-8f92-4c8086b9d0e3",
   "metadata": {},
   "outputs": [
    {
     "name": "stdout",
     "output_type": "stream",
     "text": [
      "[1, 2, 3, 4, 5, 6]\n"
     ]
    }
   ],
   "source": [
    "# 25. Write a program to flatten a nested list using list comprehension.\n",
    "def flatten_list(nested_list):\n",
    "    flat_list = [item for sublist in nested_list for item in (flatten_list(sublist) if isinstance(sublist, list) else [sublist])]\n",
    "    return flat_list\n",
    "\n",
    "# Example usage:\n",
    "nested_list = [1, [2, [3, 4], 5], 6]\n",
    "flattened = flatten_list(nested_list)\n",
    "print(flattened)"
   ]
  },
  {
   "cell_type": "code",
   "execution_count": 8,
   "id": "b013f501-dee8-41dd-8659-eb0e666935c6",
   "metadata": {},
   "outputs": [
    {
     "name": "stdout",
     "output_type": "stream",
     "text": [
      "24 18\n"
     ]
    }
   ],
   "source": [
    "#26 Develop a program that computes the sum of even and odd numbers in a list separately using list\n",
    "# comprehension.\n",
    "li=[1,2,3,4,5,6]\n",
    "even_sum+=sum([ele for ele in li if ele%2==0])\n",
    "odd_sum+=sum([ele for ele in li if ele%2==1])\n",
    "print(even_sum,odd_sum)"
   ]
  },
  {
   "cell_type": "code",
   "execution_count": 9,
   "id": "381d6040-bc10-478f-8cde-114e90a8657d",
   "metadata": {},
   "outputs": [
    {
     "data": {
      "text/plain": [
       "[1, 9, 25, 49, 81]"
      ]
     },
     "execution_count": 9,
     "metadata": {},
     "output_type": "execute_result"
    }
   ],
   "source": [
    "# 27. Create a program that generates a list of squares of odd numbers between 1 and 10 using list\n",
    "# comprehension.\n",
    "li=[(ele*ele) for ele in range(1,11) if ele%2==1]\n",
    "li"
   ]
  },
  {
   "cell_type": "code",
   "execution_count": 10,
   "id": "ac7c88a1-d94d-46c9-bc06-7af218f6a63b",
   "metadata": {},
   "outputs": [
    {
     "data": {
      "text/plain": [
       "{1: 'kaif', 2: 'saif', 3: 'hamid', 4: 'uday', 5: 'jayanta', 6: 'sardar'}"
      ]
     },
     "execution_count": 10,
     "metadata": {},
     "output_type": "execute_result"
    }
   ],
   "source": [
    "# 28. Write a program that combines two lists into a dictionary using list comprehension.\n",
    "keys=[1,2,3,4,5,6]\n",
    "values=['kaif','saif','hamid','uday','jayanta','sardar']\n",
    "d={keys[i]:values[i] for i in range(len(keys))}\n",
    "d"
   ]
  },
  {
   "cell_type": "code",
   "execution_count": 1,
   "id": "73a148b8-7a3f-4fe8-bb43-e0e145671a39",
   "metadata": {},
   "outputs": [
    {
     "data": {
      "text/plain": [
       "['a', 'e', 'i', 'o', 'u']"
      ]
     },
     "execution_count": 1,
     "metadata": {},
     "output_type": "execute_result"
    }
   ],
   "source": [
    "#29 Develop a program that extracts the vowels from a string and stores them in a list using list comprehension.\n",
    "s='abcdefghiouv'\n",
    "li=[ele for ele in s if ele=='a' or ele=='e' or ele=='i' or ele=='o' or ele=='u']\n",
    "li"
   ]
  },
  {
   "cell_type": "code",
   "execution_count": 45,
   "id": "25b5a6ec-8f09-4e8f-8e60-b25a78cd65ad",
   "metadata": {},
   "outputs": [
    {
     "data": {
      "text/plain": [
       "['skdkc', 'kdia', 'abcd']"
      ]
     },
     "execution_count": 45,
     "metadata": {},
     "output_type": "execute_result"
    }
   ],
   "source": [
    "# 30. Create a program that removes all non-numeric characters from a list of strings using list comprehension.\n",
    "def remove(ele):\n",
    "    for i in ele:\n",
    "        if i.isnumeric()==True:\n",
    "            ele=ele.replace(i,\"\")\n",
    "    return ele\n",
    "li=['skdkc23','kdia222','abcd979']\n",
    "l1=[remove(ele) for ele in li]\n",
    "l1"
   ]
  },
  {
   "cell_type": "code",
   "execution_count": 3,
   "id": "56b37817-b991-4bcf-a9b1-44f8acfcddf5",
   "metadata": {},
   "outputs": [
    {
     "name": "stdin",
     "output_type": "stream",
     "text": [
      "Enter a num 9\n"
     ]
    },
    {
     "data": {
      "text/plain": [
       "[0, 1, 2, 3, 5, 7]"
      ]
     },
     "execution_count": 3,
     "metadata": {},
     "output_type": "execute_result"
    }
   ],
   "source": [
    "# 31. Write a program to generate a list of prime numbers using the Sieve of Eratosthenes algorithm and list\n",
    "# comprehension.\n",
    "def SieveOfEratosthenes(num):\n",
    "    prime=[True for i in range(num+1)]\n",
    "    p=2\n",
    "    while(p*p<=num):\n",
    "        if prime[p]==True:\n",
    "            for i in range(p*p,num+1,p):\n",
    "                prime[i]=False\n",
    "        p+=1\n",
    "    return prime\n",
    "num=int(input(\"Enter a num\"))\n",
    "lis=SieveOfEratosthenes(num)\n",
    "li=[i for i in range(len(lis)) if lis[i]==True]\n",
    "li"
   ]
  },
  {
   "cell_type": "code",
   "execution_count": 1,
   "id": "30fabe0f-41bf-4ed9-8f52-24b3bbaac272",
   "metadata": {},
   "outputs": [
    {
     "name": "stdout",
     "output_type": "stream",
     "text": [
      "Pythagorean triplets up to 20: [(3, 4, 5), (5, 12, 13), (6, 8, 10), (8, 15, 17), (9, 12, 15), (12, 16, 20)]\n"
     ]
    }
   ],
   "source": [
    "# 32. Create a program that generates a list of all Pythagorean triplets up to a specified limit using list\n",
    "# comprehension.\n",
    "def generate_pythagorean_triplets(limit):\n",
    "    triplets = [(a, b, c) for a in range(1, limit+1) for b in range(a, limit+1) for c in range(b, limit+1) if a**2 + b**2 == c**2]\n",
    "    return triplets\n",
    "\n",
    "limit = 20\n",
    "triplets = generate_pythagorean_triplets(limit)\n",
    "print(f\"Pythagorean triplets up to {limit}: {triplets}\")"
   ]
  },
  {
   "cell_type": "code",
   "execution_count": 2,
   "id": "fde9efbe-1ea6-44da-a5a6-89c98fb62a08",
   "metadata": {},
   "outputs": [
    {
     "name": "stdout",
     "output_type": "stream",
     "text": [
      "All possible combinations:\n",
      "[(1, 'a'), (1, 'b'), (1, 'c'), (2, 'a'), (2, 'b'), (2, 'c'), (3, 'a'), (3, 'b'), (3, 'c')]\n"
     ]
    }
   ],
   "source": [
    "# 33. Develop a program that generates a list of all possible combinations of two lists using list comprehension.\n",
    "list1 = [1, 2, 3]\n",
    "list2 = ['a', 'b', 'c']\n",
    "\n",
    "combinations = [(x, y) for x in list1 for y in list2]\n",
    "\n",
    "print(\"All possible combinations:\")\n",
    "print(combinations)\n"
   ]
  },
  {
   "cell_type": "code",
   "execution_count": 31,
   "id": "1784cc7a-291f-43a9-b7cb-54ba9ffd9d0e",
   "metadata": {},
   "outputs": [
    {
     "data": {
      "text/plain": [
       "[10.5, 4, 23.5]"
      ]
     },
     "execution_count": 31,
     "metadata": {},
     "output_type": "execute_result"
    }
   ],
   "source": [
    "# 34. Write a program that calculates the mean, median, and mode of a list of numbers using list\n",
    "# comprehension.\n",
    "li=[1,2,3,4,5,6]\n",
    "l2=[sum([i for i in li])/2,li[int(len(li)/2)],3*l2[0]-2*l2[1]]\n",
    "l2"
   ]
  },
  {
   "cell_type": "code",
   "execution_count": 50,
   "id": "6a702e63-c2d0-4025-b332-4d0468fd51ec",
   "metadata": {},
   "outputs": [
    {
     "data": {
      "text/plain": [
       "[[1], [1, 1], [1, 2, 1], [1, 3, 3, 1], [1, 4, 6, 4, 1]]"
      ]
     },
     "execution_count": 50,
     "metadata": {},
     "output_type": "execute_result"
    }
   ],
   "source": [
    "# 35. Create a program that generates Pascal's triangle up to a specified number of rows using list\n",
    "# comprehension.\n",
    "li=[[1]]\n",
    "size=5\n",
    "if(size==0):\n",
    "    li.pop()\n",
    "        \n",
    "for i in range(1,size):\n",
    "    l1=[]\n",
    "    \n",
    "    \n",
    "    for j in range(len(li[i-1])+1):\n",
    "        if j==0 or j==len(li[i-1]):\n",
    "            l1.append(1)\n",
    "        else:\n",
    "            \n",
    "            l1.append(li[i-1][j-1]+li[i-1][j])\n",
    "    li.append(l1)\n",
    "li"
   ]
  },
  {
   "cell_type": "code",
   "execution_count": 60,
   "id": "007340d9-3c0f-4cd2-8fb5-3a0568989d4a",
   "metadata": {},
   "outputs": [
    {
     "name": "stdin",
     "output_type": "stream",
     "text": [
      "Enter num 5\n"
     ]
    },
    {
     "data": {
      "text/plain": [
       "3"
      ]
     },
     "execution_count": 60,
     "metadata": {},
     "output_type": "execute_result"
    }
   ],
   "source": [
    "# 36. Develop a program that calculates the sum of the digits of a factorial of numbers from 1 to 5 using list\n",
    "# comprehension.\n",
    "def fact(num):\n",
    "    if num==1:\n",
    "        return 1\n",
    "    return num*fact(num-1)\n",
    "num=int(input(\"Enter num\"))\n",
    "f=str(fact(num))\n",
    "sums=0\n",
    "sums+=sum(int(i) for i in f)\n",
    "sums\n"
   ]
  },
  {
   "cell_type": "code",
   "execution_count": 4,
   "id": "de863d3e-066d-403b-a54d-c8b1950d6742",
   "metadata": {},
   "outputs": [
    {
     "name": "stdout",
     "output_type": "stream",
     "text": [
      "The longest word in the sentence is: quick\n"
     ]
    }
   ],
   "source": [
    "# 37. Write a program that finds the longest word in a sentence using list comprehension.\n",
    "def find_longest_word(sentence):\n",
    "    words = sentence.split() \n",
    "    longest_word = max(words, key=len)\n",
    "    return longest_word\n",
    "\n",
    "input_sentence = \"The quick brown fox jumps over the lazy dog\"\n",
    "\n",
    "longest_word = find_longest_word(input_sentence)\n",
    "print(f\"The longest word in the sentence is: {longest_word}\")\n"
   ]
  },
  {
   "cell_type": "code",
   "execution_count": 9,
   "id": "f943fe4e-5aa4-49e3-8b52-775823cf67c7",
   "metadata": {},
   "outputs": [
    {
     "name": "stdout",
     "output_type": "stream",
     "text": [
      "Strings with more than three vowels: ['aaau']\n"
     ]
    }
   ],
   "source": [
    "#38. Create a program that filters a list of strings to include only those with more than three vowels using listcomprehension.\n",
    "\n",
    "def count_vowels(word):\n",
    "    return sum(1 for char in word if char.lower() in 'aeiou')\n",
    "\n",
    "def filter_strings_with_more_than_three_vowels(word_list):\n",
    "    filtered_words = [word for word in word_list if count_vowels(word) > 3]\n",
    "    return filtered_words\n",
    "\n",
    "word_list = [\"hello\", \"world\", \"python\", \"programming\", \"example\",\"aaau\"]\n",
    "\n",
    "filtered_words = filter_strings_with_more_than_three_vowels(word_list)\n",
    "print(f\"Strings with more than three vowels: {filtered_words}\")\n"
   ]
  },
  {
   "cell_type": "code",
   "execution_count": 17,
   "id": "11137a52-c9f5-41c0-9714-f3f0851d3dd1",
   "metadata": {},
   "outputs": [
    {
     "name": "stdout",
     "output_type": "stream",
     "text": [
      "Sum of the digits of numbers from 1 to 1000: 13501\n"
     ]
    }
   ],
   "source": [
    "# 39. Develop a program that calculates the sum of the digits of numbers from 1 to 1000 using listcomprehension.\n",
    "\n",
    "def digit_sum(number):\n",
    "    return sum(int(digit) for digit in str(number))\n",
    "\n",
    "sum_of_digits = sum(digit_sum(number) for number in range(1, 1001))\n",
    "print(f\"Sum of the digits of numbers from 1 to 1000: {sum_of_digits}\")\n"
   ]
  },
  {
   "cell_type": "code",
   "execution_count": 18,
   "id": "1da5799e-2695-495b-b3bf-c958a9c56f78",
   "metadata": {},
   "outputs": [
    {
     "name": "stdout",
     "output_type": "stream",
     "text": [
      "Prime palindromic numbers: [2, 3, 5, 7, 11, 101, 131, 151, 181, 191, 313, 353, 373, 383, 727, 757, 787, 797, 919, 929]\n"
     ]
    }
   ],
   "source": [
    "# 40. Write a program that generates a list of prime palindromic numbers using list comprehension.\n",
    "def is_prime(n):\n",
    "    if n < 2:\n",
    "        return False\n",
    "    for i in range(2, int(n**0.5) + 1):\n",
    "        if n % i == 0:\n",
    "            return False\n",
    "    return True\n",
    "\n",
    "def is_palindrome(n):\n",
    "    return str(n) == str(n)[::-1]\n",
    "\n",
    "limit = 1000  \n",
    "prime_palindromes = [num for num in range(2, limit) if is_prime(num) and is_palindrome(num)]\n",
    "\n",
    "print(\"Prime palindromic numbers:\", prime_palindromes)\n"
   ]
  },
  {
   "cell_type": "code",
   "execution_count": null,
   "id": "8fdb7756-ba83-4e90-b116-fc20d00dc267",
   "metadata": {},
   "outputs": [],
   "source": []
  }
 ],
 "metadata": {
  "kernelspec": {
   "display_name": "Python 3 (ipykernel)",
   "language": "python",
   "name": "python3"
  },
  "language_info": {
   "codemirror_mode": {
    "name": "ipython",
    "version": 3
   },
   "file_extension": ".py",
   "mimetype": "text/x-python",
   "name": "python",
   "nbconvert_exporter": "python",
   "pygments_lexer": "ipython3",
   "version": "3.10.8"
  }
 },
 "nbformat": 4,
 "nbformat_minor": 5
}
